{
  "nbformat": 4,
  "nbformat_minor": 0,
  "metadata": {
    "colab": {
      "provenance": [],
      "history_visible": true
    },
    "kernelspec": {
      "name": "python3",
      "display_name": "Python 3"
    },
    "language_info": {
      "name": "python"
    }
  },
  "cells": [
    {
      "cell_type": "code",
      "source": [
        "!pip install pandas\n",
        "from google.colab import drive\n"
      ],
      "metadata": {
        "colab": {
          "base_uri": "https://localhost:8080/"
        },
        "id": "ZXx6ou0orgXB",
        "outputId": "8f3ffbd3-bfb9-42aa-e332-c705d3d951ad"
      },
      "execution_count": 15,
      "outputs": [
        {
          "output_type": "stream",
          "name": "stdout",
          "text": [
            "Requirement already satisfied: pandas in /usr/local/lib/python3.10/dist-packages (2.1.4)\n",
            "Requirement already satisfied: numpy<2,>=1.22.4 in /usr/local/lib/python3.10/dist-packages (from pandas) (1.26.4)\n",
            "Requirement already satisfied: python-dateutil>=2.8.2 in /usr/local/lib/python3.10/dist-packages (from pandas) (2.8.2)\n",
            "Requirement already satisfied: pytz>=2020.1 in /usr/local/lib/python3.10/dist-packages (from pandas) (2024.1)\n",
            "Requirement already satisfied: tzdata>=2022.1 in /usr/local/lib/python3.10/dist-packages (from pandas) (2024.1)\n",
            "Requirement already satisfied: six>=1.5 in /usr/local/lib/python3.10/dist-packages (from python-dateutil>=2.8.2->pandas) (1.16.0)\n"
          ]
        }
      ]
    },
    {
      "cell_type": "code",
      "source": [
        "drive.mount('/content/drive')\n",
        "\n"
      ],
      "metadata": {
        "colab": {
          "base_uri": "https://localhost:8080/"
        },
        "id": "sRAY3162roLK",
        "outputId": "884ed474-12a9-434d-e753-076e1add4aa0"
      },
      "execution_count": 5,
      "outputs": [
        {
          "output_type": "stream",
          "name": "stdout",
          "text": [
            "Mounted at /content/drive\n"
          ]
        }
      ]
    },
    {
      "cell_type": "code",
      "source": [
        "import pandas as pd\n",
        "from datetime import datetime, timedelta\n",
        "import random\n",
        "from google.colab import drive\n",
        "\n",
        "# Mount Google Drive\n",
        "drive.mount('/content/drive')\n",
        "\n",
        "# Define file paths for CSVs\n",
        "debaa_data_csv = '/content/drive/My Drive/debaa_data.csv'\n",
        "stations_data_csv = '/content/drive/My Drive/stations_data.csv'\n",
        "\n",
        "# Create data for stations_data\n",
        "stations_data = [\n",
        "    ['Debaa', 27.69863382598312 - 35.60490604611397, 5, 3, 15, 30000, 35.60490604611397, 27.69863382598312],\n",
        "]\n",
        "\n",
        "# Create a DataFrame for stations_data and save it as CSV\n",
        "stations_df = pd.DataFrame(stations_data, columns=[\n",
        "    'station_name', 'station_location', 'num_of_pumps', 'num_of_tanks',\n",
        "    'tank_level', 'tank_volume', 'longitude', 'latitude'\n",
        "])\n",
        "stations_df.to_csv(stations_data_csv, index=False)\n",
        "\n",
        "# Convert stations_df to a dictionary for quick lookup\n",
        "stations_dict = stations_df.set_index('station_name').to_dict(orient='index')\n",
        "\n"
      ],
      "metadata": {
        "colab": {
          "base_uri": "https://localhost:8080/"
        },
        "id": "BHhOrzqRUZ-G",
        "outputId": "822f69da-ed7e-46fe-ef54-2cf453c92459"
      },
      "execution_count": 38,
      "outputs": [
        {
          "output_type": "stream",
          "name": "stdout",
          "text": [
            "Drive already mounted at /content/drive; to attempt to forcibly remount, call drive.mount(\"/content/drive\", force_remount=True).\n"
          ]
        }
      ]
    },
    {
      "cell_type": "code",
      "source": [
        "import pandas as pd\n",
        "import random\n",
        "from datetime import datetime, timedelta\n",
        "debaa_data_csv = '/content/drive/My Drive/debaa_data.csv'\n",
        "\n",
        "# Define possible leakage locations and their coordinates\n",
        "leakage_locations = [\n",
        "    {'name': \"Al Wajh\", 'longitude': 36.465901, 'latitude': 26.236126},\n",
        "    {'name': \"Al Muwaylih\", 'longitude': 35.693874, 'latitude': 27.705844},\n",
        "    {'name': \"Al Bad3\", 'longitude': 35.026527, 'latitude': 28.487035},\n",
        "    {'name': \"Sharma\", 'longitude': 35.300946, 'latitude': 28.008210},\n",
        "    {'name': \"Al Khuraybah\", 'longitude': 35.702843, 'latitude': 27.436889}\n",
        "]\n",
        "\n",
        "# Helper function to generate a random datetime within a range of hours\n",
        "def random_time_within_day(day):\n",
        "    \"\"\"Generate a random time within a given day.\"\"\"\n",
        "    start = datetime.combine(day, datetime.min.time())\n",
        "    end = datetime.combine(day, datetime.max.time())\n",
        "    delta = end - start\n",
        "    random_seconds = random.randint(0, int(delta.total_seconds()))\n",
        "    return start + timedelta(seconds=random_seconds)\n",
        "\n",
        "# Function to generate data for a station\n",
        "def generate_station_data(station_name, data_csv):\n",
        "    station_data = []\n",
        "    start_date = datetime(2024, 6, 1)\n",
        "    end_date = datetime(2024, 8, 26)\n",
        "\n",
        "    # Base consumption rate (kW per cubic meter per hour)\n",
        "    base_consumption_rate = 0.05  # This is an assumed value; you can adjust as needed\n",
        "\n",
        "    while start_date <= end_date:\n",
        "        time = datetime.combine(start_date, datetime.min.time())\n",
        "        end_time = time + timedelta(hours=23)\n",
        "\n",
        "        # Schedule maintenance every day\n",
        "        maintenance_duration = random.uniform(1, 3)  # Maintenance duration between 1 and 3 hours\n",
        "        request_maintenance_time = random_time_within_day(start_date.date())\n",
        "        end_of_maintenance_time = request_maintenance_time + timedelta(hours=maintenance_duration)\n",
        "\n",
        "        # Generate last_maintenance_date as the date of end_of_maintenance_time\n",
        "        last_maintenance_date = end_of_maintenance_time.date()\n",
        "\n",
        "        # Select a random leakage location name and its coordinates if maintenance is scheduled\n",
        "        selected_leakage_location = random.choice(leakage_locations)\n",
        "        leakage_location_name = selected_leakage_location['name']\n",
        "        leakage_longitude = selected_leakage_location['longitude']\n",
        "        leakage_latitude = selected_leakage_location['latitude']\n",
        "\n",
        "        # Calculate the maintenance period in hours\n",
        "        maintenance_period = maintenance_duration\n",
        "\n",
        "        while time <= end_time:\n",
        "            total_input_flow = round(random.uniform(233.252, 335.1103463), 6)\n",
        "            flow_pump_1 = round(random.uniform(300, 497), 0)\n",
        "            flow_pump_2 = round(random.uniform(300, 497), 0)\n",
        "            flow_pump_3 = round(random.uniform(300, 497), 0) if not (time.hour >= 20 or time.hour < 6) else 0\n",
        "            flow_pump_4 = round(random.uniform(300, 497), 0)\n",
        "            flow_pump_5 = round(random.uniform(300, 497), 0) if not (time.hour >= 20 or time.hour < 6) else 0\n",
        "            total_output_flow = round(random.uniform(233.252, 335.1103463), 6)\n",
        "\n",
        "            pressure_pump_1 = round(random.uniform(3.8, 4.19), 2)\n",
        "            pressure_pump_2 = round(random.uniform(3.8, 4.19), 2)\n",
        "            pressure_pump_3 = round(random.uniform(3.8, 4.19), 2) if not (time.hour >= 20 or time.hour < 6) else 0\n",
        "            pressure_pump_4 = round(random.uniform(3.8, 4.19), 2)\n",
        "            pressure_pump_5 = round(random.uniform(3.8, 4.19), 2) if not (time.hour >= 20 or time.hour < 6) else 0\n",
        "\n",
        "            level_tank_1 = round(random.uniform(50, 100), 2)\n",
        "            level_tank_2 = round(random.uniform(25, 50), 2)\n",
        "            level_tank_3 = round(random.uniform(25, 50), 2)\n",
        "\n",
        "            head_pump_1 = round(random.uniform(0.5, 1.0), 2)\n",
        "            head_pump_2 = round(random.uniform(0.5, 1.0), 2)\n",
        "            head_pump_3 = round(random.uniform(0.5, 1.0), 2) if not (time.hour >= 20 or time.hour < 6) else 0\n",
        "            head_pump_4 = round(random.uniform(0.5, 1.0), 2)\n",
        "            head_pump_5 = round(random.uniform(0.5, 1.0), 2) if not (time.hour >= 20 or time.hour < 6) else 0\n",
        "\n",
        "            power_factor_pump_1 = round(random.uniform(0.8, 0.9), 2)\n",
        "            power_factor_pump_2 = round(random.uniform(0.8, 0.9), 2)\n",
        "            power_factor_pump_3 = round(random.uniform(0.8, 0.9), 2) if not (time.hour >= 20 or time.hour < 6) else 0\n",
        "            power_factor_pump_4 = round(random.uniform(0.8, 0.9), 2)\n",
        "            power_factor_pump_5 = round(random.uniform(0.8, 0.9), 2) if not (time.hour >= 20 or time.hour < 6) else 0\n",
        "\n",
        "            number_of_working_hours = round(random.uniform(8, 16), 2)\n",
        "            number_of_complaints = random.randint(0, 10)\n",
        "            types_of_complaints = random.choice(['Water_Shortage', 'Water_Outage'])\n",
        "\n",
        "            # Calculate power consumption for each pump\n",
        "            power_consumption_pump_1 = flow_pump_1 * base_consumption_rate\n",
        "            power_consumption_pump_2 = flow_pump_2 * base_consumption_rate\n",
        "            power_consumption_pump_3 = flow_pump_3 * base_consumption_rate\n",
        "            power_consumption_pump_4 = flow_pump_4 * base_consumption_rate\n",
        "            power_consumption_pump_5 = flow_pump_5 * base_consumption_rate\n",
        "\n",
        "            # Total power consumption\n",
        "            total_power_consumption = sum([\n",
        "                power_consumption_pump_1,\n",
        "                power_consumption_pump_2,\n",
        "                power_consumption_pump_3,\n",
        "                power_consumption_pump_4,\n",
        "                power_consumption_pump_5\n",
        "            ])\n",
        "\n",
        "            station_data.append([\n",
        "                start_date.date(), time.time(), station_name, total_input_flow, flow_pump_1, flow_pump_2,\n",
        "                flow_pump_3, flow_pump_4, flow_pump_5, total_output_flow, pressure_pump_1, pressure_pump_2,\n",
        "                pressure_pump_3, pressure_pump_4, pressure_pump_5, level_tank_1, level_tank_2, head_pump_1,\n",
        "                head_pump_2, head_pump_3, head_pump_4, head_pump_5, power_factor_pump_1, power_factor_pump_2,\n",
        "                power_factor_pump_3, power_factor_pump_4, power_factor_pump_5, number_of_working_hours,\n",
        "                last_maintenance_date, number_of_complaints, types_of_complaints,\n",
        "                request_maintenance_time, end_of_maintenance_time, maintenance_period,  # Added maintenance period\n",
        "                number_of_employees, number_of_equipment,\n",
        "                leakage_location_name, leakage_longitude, leakage_latitude, total_power_consumption\n",
        "            ])\n",
        "\n",
        "            time += timedelta(hours=1)\n",
        "\n",
        "        start_date += timedelta(days=1)\n",
        "\n",
        "    # Create a DataFrame and save it as CSV\n",
        "    station_df = pd.DataFrame(station_data, columns=[\n",
        "        'date', 'time', 'station_name', 'total_input_flow', 'flow_pump_1', 'flow_pump_2', 'flow_pump_3',\n",
        "        'flow_pump_4', 'flow_pump_5', 'total_output_flow', 'pressure_pump_1', 'pressure_pump_2', 'pressure_pump_3',\n",
        "        'pressure_pump_4', 'pressure_pump_5', 'level_tank_1', 'level_tank_2', 'head_pump_1', 'head_pump_2',\n",
        "        'head_pump_3', 'head_pump_4', 'head_pump_5', 'power_factor_pump_1', 'power_factor_pump_2',\n",
        "        'power_factor_pump_3', 'power_factor_pump_4', 'power_factor_pump_5', 'number_of_working_hours_per_day',\n",
        "        'last_maintenance_date', 'number_of_complaints', 'types_of_complaints', 'request_maintenance_time',\n",
        "        'end_of_maintenance_time', 'maintenance_period',  # Added maintenance period\n",
        "        'number_of_employees', 'number_of_equipment',\n",
        "        'leakage_location_name', 'leakage_longitude', 'leakage_latitude', 'total_power_consumption'\n",
        "    ])\n",
        "\n",
        "    # Ensure all relevant columns are datetime\n",
        "    station_df['date'] = pd.to_datetime(station_df['date'])\n",
        "    station_df['time'] = pd.to_datetime(station_df['time'], format='%H:%M:%S').dt.time\n",
        "    station_df['last_maintenance_date'] = pd.to_datetime(station_df['last_maintenance_date'], errors='coerce')\n",
        "    station_df['request_maintenance_time'] = pd.to_datetime(station_df['request_maintenance_time'], errors='coerce')\n",
        "    station_df['end_of_maintenance_time'] = pd.to_datetime(station_df['end_of_maintenance_time'], errors='coerce')\n",
        "\n",
        "    station_df.to_csv(data_csv, index=False)\n",
        "\n",
        "# Generate data for Debaa\n",
        "debaa_data_csv = 'debaa_data.csv'\n",
        "generate_station_data('Debaa', debaa_data_csv)"
      ],
      "metadata": {
        "id": "zSia3hzoL6G1"
      },
      "execution_count": 36,
      "outputs": []
    }
  ]
}